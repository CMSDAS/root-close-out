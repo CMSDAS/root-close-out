{
 "cells": [
  {
   "cell_type": "markdown",
   "metadata": {},
   "source": [
    "# Interoperability with numpy arrays\n",
    "\n",
    "The by far most commen data interface in the Python world are numpy arrays. Therefore, it's crucial for PyROOT to provide interoperability features between the wrapped C++ objects and numpy arrays, which allows to feed data seemlessly from C++ to Python and back."
   ]
  },
  {
   "cell_type": "code",
   "execution_count": 1,
   "metadata": {},
   "outputs": [
    {
     "name": "stdout",
     "output_type": "stream",
     "text": [
      "Welcome to JupyROOT 6.22/02\n"
     ]
    }
   ],
   "source": [
    "import ROOT\n",
    "import numpy as np"
   ]
  },
  {
   "cell_type": "markdown",
   "metadata": {},
   "source": [
    "## From C++ containers to numpy\n",
    "\n",
    "PyROOT attachs the [array interface](https://numpy.org/doc/stable/reference/arrays.interface.html) of numpy to suitable C++ containers and therefore allows the adoption of the memory with numpy arrays."
   ]
  },
  {
   "cell_type": "code",
   "execution_count": 2,
   "metadata": {},
   "outputs": [
    {
     "name": "stdout",
     "output_type": "stream",
     "text": [
      "ROOT.std.vector['float'] { 1.00000f, 2.00000f, 3.00000f }\n",
      "numpy.array [1. 2. 3.]\n",
      "numpy.array [42.  2.  3.]\n"
     ]
    }
   ],
   "source": [
    "v1 = ROOT.std.vector['float']((1, 2, 3))\n",
    "print(\"ROOT.std.vector['float']\", v1)\n",
    "\n",
    "v2 = np.asarray(v1)\n",
    "print('numpy.array', v2)\n",
    "\n",
    "v1[0] = 42\n",
    "print('numpy.array', v2)"
   ]
  },
  {
   "cell_type": "markdown",
   "metadata": {},
   "source": [
    "## From numpy arrays to C++\n",
    "\n",
    "PyROOT also supports due to [`ROOT::RVec`](https://root.cern/doc/master/classROOT_1_1VecOps_1_1RVec.html) the adoption of memory from objects with a numpy [array interface](https://numpy.org/doc/stable/reference/arrays.interface.html)."
   ]
  },
  {
   "cell_type": "code",
   "execution_count": 3,
   "metadata": {},
   "outputs": [
    {
     "name": "stdout",
     "output_type": "stream",
     "text": [
      "numpy.array [1. 2. 3.]\n",
      "ROOT.RVec['float'] { 1.00000f, 2.00000f, 3.00000f }\n",
      "ROOT.RVec['float'] { 42.0000f, 2.00000f, 3.00000f }\n"
     ]
    }
   ],
   "source": [
    "v1 = np.array((1, 2, 3), dtype=np.float32)\n",
    "print('numpy.array', v1)\n",
    "\n",
    "v2 = ROOT.VecOps.AsRVec(v1)\n",
    "print(\"ROOT.RVec['float']\", v2)\n",
    "\n",
    "v1[0] = 42\n",
    "print(\"ROOT.RVec['float']\", v2)"
   ]
  },
  {
   "cell_type": "markdown",
   "metadata": {},
   "source": [
    "In addition, C++ interfaces with raw pointers are understood natively."
   ]
  },
  {
   "cell_type": "code",
   "execution_count": 4,
   "metadata": {},
   "outputs": [
    {
     "name": "stdout",
     "output_type": "stream",
     "text": [
      "The first element of the numpy.array is 42.0\n"
     ]
    }
   ],
   "source": [
    "ROOT.gInterpreter.Declare('''\n",
    "float get_element(float* v, unsigned int i) {\n",
    "    return v[i];\n",
    "}\n",
    "''')\n",
    "\n",
    "print('The first element of the numpy.array is', ROOT.get_element(v1, 0))"
   ]
  },
  {
   "cell_type": "markdown",
   "metadata": {},
   "source": [
    "## Data in ROOT files to numpy\n",
    "\n",
    "Another crucial feature for Python based analysis is moving data from ROOT files to numpy arrays. To do so, PyROOT offers extensions to [`ROOT::RDataFrame`](https://root.cern/doc/master/classROOT_1_1RDataFrame.html), which allow to load data in [`TTrees`](https://root.cern/doc/master/classTTree.html) as dictionary of numpy arrays. The workflow in mind is doing heavy computation in C++ powered by `RDataFrame` and push only the required data to Python."
   ]
  },
  {
   "cell_type": "code",
   "execution_count": 6,
   "metadata": {},
   "outputs": [],
   "source": [
    "path = 'root://eospublic.cern.ch//eos/opendata/cms/derived-data/AOD2NanoAODOutreachTool/Run2012BC_DoubleMuParked_Muons.root'\n",
    "\n",
    "df = ROOT.RDataFrame('Events', path)\n",
    "\n",
    "npy = df.Filter('nMuon == 2')\\\n",
    "        .Filter('Muon_charge[0] != Muon_charge[1]')\\\n",
    "        .Define('Dimuon_mass', 'InvariantMass(Muon_pt, Muon_eta, Muon_phi, Muon_mass)')\\\n",
    "        .Range(10000)\\\n",
    "        .AsNumpy(['Dimuon_mass'])"
   ]
  },
  {
   "cell_type": "markdown",
   "metadata": {},
   "source": [
    "The result of `AsNumpy` can be directly used to construct a pandas dataframe:"
   ]
  },
  {
   "cell_type": "code",
   "execution_count": 7,
   "metadata": {
    "scrolled": true
   },
   "outputs": [
    {
     "name": "stdout",
     "output_type": "stream",
     "text": [
      "      Dimuon_mass\n",
      "0       27.915493\n",
      "1      113.646866\n",
      "2        1.587861\n",
      "3       23.723238\n",
      "4        0.738188\n",
      "...           ...\n",
      "9995    24.853788\n",
      "9996     3.090108\n",
      "9997    27.981396\n",
      "9998     0.250488\n",
      "9999   161.415146\n",
      "\n",
      "[10000 rows x 1 columns]\n"
     ]
    }
   ],
   "source": [
    "import pandas\n",
    "pdf = pandas.DataFrame(npy)\n",
    "print(pdf)"
   ]
  },
  {
   "cell_type": "markdown",
   "metadata": {},
   "source": [
    "Or make a plot with matplotlib:"
   ]
  },
  {
   "cell_type": "code",
   "execution_count": 8,
   "metadata": {
    "scrolled": true
   },
   "outputs": [
    {
     "data": {
      "image/png": "[encoded data removed]",
      "text/plain": [
       "<Figure size 432x288 with 1 Axes>"
      ]
     },
     "metadata": {
      "needs_background": "light"
     },
     "output_type": "display_data"
    }
   ],
   "source": [
    "import matplotlib.pyplot as plt\n",
    "plt.hist(npy['Dimuon_mass'], range=(70, 110), bins=20)\n",
    "plt.xlabel('Dimoun mass in GeV');"
   ]
  },
  {
   "cell_type": "markdown",
   "metadata": {},
   "source": [
    "## From numpy arrays to ROOT files\n",
    "\n",
    "PyROOT supports to create a [`ROOT::RDataFrame`](https://root.cern/doc/master/classROOT_1_1RDataFrame.html) from numpy arrays, which allows to further transform the dataset and eventually write the data back to disk in a ROOT file."
   ]
  },
  {
   "cell_type": "code",
   "execution_count": 9,
   "metadata": {},
   "outputs": [
    {
     "name": "stdout",
     "output_type": "stream",
     "text": [
      "x        | y | \n",
      "1.00000f | 4 | \n",
      "2.00000f | 5 | \n",
      "3.00000f | 6 | \n"
     ]
    }
   ],
   "source": [
    "npy2 = {'x': np.array((1, 2, 3), dtype=np.float32), 'y': np.array((4, 5, 6), dtype=np.int32)}\n",
    "\n",
    "df = ROOT.RDF.MakeNumpyDataFrame(npy2)\n",
    "\n",
    "display = df.Display()\n",
    "df.Snapshot('Events', 'file.root')\n",
    "display.Print()"
   ]
  },
  {
   "cell_type": "markdown",
   "metadata": {},
   "source": [
    "We can show with `rootls` the objects in the newly created file:"
   ]
  },
  {
   "cell_type": "code",
   "execution_count": 10,
   "metadata": {},
   "outputs": [
    {
     "name": "stdout",
     "output_type": "stream",
     "text": [
      "TTree  Sep 23 16:39 2020 Events  \"Events\"\n",
      "  x  \"x/F\"  82\n",
      "  y  \"y/I\"  82\n",
      "  Cluster INCLUSIVE ranges:\n",
      "   - # 0: [0, 2]\n",
      "  The total number of clusters is 1\n"
     ]
    }
   ],
   "source": [
    "%%bash\n",
    "rootls -t file.root"
   ]
  }
 ],
 "metadata": {
  "kernelspec": {
   "display_name": "Python 3",
   "language": "python",
   "name": "python3"
  },
  "language_info": {
   "codemirror_mode": {
    "name": "ipython",
    "version": 3
   },
   "file_extension": ".py",
   "mimetype": "text/x-python",
   "name": "python",
   "nbconvert_exporter": "python",
   "pygments_lexer": "ipython3",
   "version": "3.8.5"
  }
 },
 "nbformat": 4,
 "nbformat_minor": 4
}
